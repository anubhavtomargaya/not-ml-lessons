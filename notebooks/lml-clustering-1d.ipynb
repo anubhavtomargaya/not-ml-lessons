{
 "cells": [
  {
   "attachments": {},
   "cell_type": "markdown",
   "metadata": {},
   "source": [
    "# Learning ML - finding groups in datasets "
   ]
  },
  {
   "attachments": {},
   "cell_type": "markdown",
   "metadata": {},
   "source": [
    "### Trying to group the transactions using unsupervised learning (Univariate)\n",
    "- amount_debited as a single variable\n",
    "- for single variable [clustering is not sensible]('https://stackoverflow.com/questions/18364026/clustering-values-by-their-proximity-in-python-machine-learning/18385795#18385795') as it is designed for multi-variate problems but to understand the concepts we can use it anyway.\n",
    "- a way around for using an array with kmeans, turning it into a matrix \n",
    "- in 1.1 we predict the cluster of a new data point \n",
    "- next in exercise #2 transaction data first binning data points in amount variable using simple histogram. not very effective but outliers are there\n",
    "- then learning *discretization* and trying to use KBinsDiscretizer. k means strategy works pretty well and label attached df has output shown for popular and outlier labels\n",
    "- using pd.cut to manually bin data in specified bins and [labels]('https://cmdlinetips.com/2019/12/how-to-discretize-bin-a-variable-in-python/')\n",
    "\n"
   ]
  },
  {
   "cell_type": "code",
   "execution_count": 103,
   "metadata": {},
   "outputs": [],
   "source": [
    "import numpy as np\n",
    "import pandas as pd\n",
    "\n",
    "#1 matrix for a 1D array\n",
    "y = [1.0,1,5,6,1,5,10,22,23,23,50,51,51,52,100,112,130,500,512,600,12000,12230]\n",
    "x = range(len(y))\n",
    "m = np.matrix([x, y]).transpose()\n",
    "y=[k*1.0 for k in y]\n"
   ]
  },
  {
   "cell_type": "code",
   "execution_count": 140,
   "metadata": {},
   "outputs": [
    {
     "data": {
      "text/plain": [
       "<Axes: >"
      ]
     },
     "execution_count": 140,
     "metadata": {},
     "output_type": "execute_result"
    },
    {
     "data": {
      "image/png": "[encoded data removed]",
      "text/plain": [
       "<Figure size 640x480 with 1 Axes>"
      ]
     },
     "metadata": {},
     "output_type": "display_data"
    }
   ],
   "source": [
    "pd.Series(y).hist()"
   ]
  },
  {
   "cell_type": "code",
   "execution_count": 131,
   "metadata": {},
   "outputs": [
    {
     "data": {
      "text/plain": [
       "array([[6.50000000e+00, 2.15000000e+01],\n",
       "       [2.00000000e+01, 1.20000000e+04],\n",
       "       [2.10000000e+01, 1.22300000e+04],\n",
       "       [1.50000000e+01, 1.14000000e+02],\n",
       "       [1.80000000e+01, 5.37333333e+02]])"
      ]
     },
     "execution_count": 131,
     "metadata": {},
     "output_type": "execute_result"
    }
   ],
   "source": [
    "from scipy.cluster.vq import kmeans\n",
    "kclust,label = kmeans(m, 5)\n",
    "kclust\n",
    "# label"
   ]
  },
  {
   "cell_type": "code",
   "execution_count": 133,
   "metadata": {},
   "outputs": [],
   "source": [
    "#1.1\n",
    "cluster_indices = kclust[:, 0]"
   ]
  },
  {
   "cell_type": "code",
   "execution_count": 143,
   "metadata": {},
   "outputs": [],
   "source": [
    "x=[2121.9,4,300]"
   ]
  },
  {
   "cell_type": "code",
   "execution_count": 144,
   "metadata": {},
   "outputs": [
    {
     "data": {
      "text/plain": [
       "[2, 0, 2]"
      ]
     },
     "execution_count": 144,
     "metadata": {},
     "output_type": "execute_result"
    }
   ],
   "source": [
    "assigned_clusters = [abs(cluster_indices - e).argmin() for e in x] #what is the rationale behind this and alternatives.\n",
    "assigned_clusters"
   ]
  },
  {
   "cell_type": "code",
   "execution_count": 6,
   "metadata": {},
   "outputs": [],
   "source": [
    "#2 clustering/bucketing transactions on amount\n",
    "df = pd.read_csv(\"transactions_02_202305211610.csv\")"
   ]
  },
  {
   "cell_type": "code",
   "execution_count": 8,
   "metadata": {},
   "outputs": [
    {
     "name": "stdout",
     "output_type": "stream",
     "text": [
      "<class 'pandas.core.frame.DataFrame'>\n",
      "RangeIndex: 100 entries, 0 to 99\n",
      "Data columns (total 8 columns):\n",
      " #   Column                 Non-Null Count  Dtype  \n",
      "---  ------                 --------------  -----  \n",
      " 0   txn_id                 100 non-null    int64  \n",
      " 1   msgId                  100 non-null    object \n",
      " 2   msgEpochTime           100 non-null    int64  \n",
      " 3   date                   100 non-null    object \n",
      " 4   to_vpa                 100 non-null    object \n",
      " 5   amount_debited         100 non-null    float64\n",
      " 6   additional_category_1  38 non-null     object \n",
      " 7   additional_category_2  1 non-null      object \n",
      "dtypes: float64(1), int64(2), object(5)\n",
      "memory usage: 6.4+ KB\n"
     ]
    }
   ],
   "source": [
    "\n",
    "df.info()"
   ]
  },
  {
   "cell_type": "code",
   "execution_count": 12,
   "metadata": {},
   "outputs": [],
   "source": [
    "from matplotlib import pyplot"
   ]
  },
  {
   "cell_type": "code",
   "execution_count": 13,
   "metadata": {},
   "outputs": [],
   "source": [
    "data = df['amount_debited']"
   ]
  },
  {
   "cell_type": "code",
   "execution_count": 17,
   "metadata": {},
   "outputs": [
    {
     "data": {
      "text/plain": [
       "(array([72., 17.,  5.,  2.,  0.,  1.,  0.,  0.,  0.,  0.,  0.,  0.,  0.,\n",
       "         0.,  0.,  0.,  0.,  0.,  0.,  0.,  0.,  0.,  0.,  0.,  0.,  0.,\n",
       "         0.,  0.,  0.,  0.,  0.,  0.,  0.,  0.,  0.,  1.,  0.,  0.,  0.,\n",
       "         1.,  0.,  0.,  0.,  0.,  0.,  0.,  0.,  0.,  0.,  0.,  0.,  0.,\n",
       "         0.,  0.,  1.]),\n",
       " array([2.00000000e+00, 6.38327273e+02, 1.27465455e+03, 1.91098182e+03,\n",
       "        2.54730909e+03, 3.18363636e+03, 3.81996364e+03, 4.45629091e+03,\n",
       "        5.09261818e+03, 5.72894545e+03, 6.36527273e+03, 7.00160000e+03,\n",
       "        7.63792727e+03, 8.27425455e+03, 8.91058182e+03, 9.54690909e+03,\n",
       "        1.01832364e+04, 1.08195636e+04, 1.14558909e+04, 1.20922182e+04,\n",
       "        1.27285455e+04, 1.33648727e+04, 1.40012000e+04, 1.46375273e+04,\n",
       "        1.52738545e+04, 1.59101818e+04, 1.65465091e+04, 1.71828364e+04,\n",
       "        1.78191636e+04, 1.84554909e+04, 1.90918182e+04, 1.97281455e+04,\n",
       "        2.03644727e+04, 2.10008000e+04, 2.16371273e+04, 2.22734545e+04,\n",
       "        2.29097818e+04, 2.35461091e+04, 2.41824364e+04, 2.48187636e+04,\n",
       "        2.54550909e+04, 2.60914182e+04, 2.67277455e+04, 2.73640727e+04,\n",
       "        2.80004000e+04, 2.86367273e+04, 2.92730545e+04, 2.99093818e+04,\n",
       "        3.05457091e+04, 3.11820364e+04, 3.18183636e+04, 3.24546909e+04,\n",
       "        3.30910182e+04, 3.37273455e+04, 3.43636727e+04, 3.50000000e+04]),\n",
       " <BarContainer object of 55 artists>)"
      ]
     },
     "execution_count": 17,
     "metadata": {},
     "output_type": "execute_result"
    },
    {
     "data": {
      "image/png": "[encoded data removed]",
      "text/plain": [
       "<Figure size 640x480 with 1 Axes>"
      ]
     },
     "metadata": {},
     "output_type": "display_data"
    }
   ],
   "source": [
    "pyplot.hist(data, bins=55)"
   ]
  },
  {
   "cell_type": "code",
   "execution_count": 19,
   "metadata": {},
   "outputs": [],
   "source": [
    "#3 Binning using Discretizer\n",
    "from sklearn.preprocessing import KBinsDiscretizer"
   ]
  },
  {
   "cell_type": "code",
   "execution_count": null,
   "metadata": {},
   "outputs": [],
   "source": [
    "dnp = np.array(data)\n",
    "dnp"
   ]
  },
  {
   "cell_type": "code",
   "execution_count": 23,
   "metadata": {},
   "outputs": [],
   "source": [
    "data = dnp.reshape((len(dnp),1))"
   ]
  },
  {
   "cell_type": "code",
   "execution_count": 53,
   "metadata": {},
   "outputs": [],
   "source": [
    "kbins = KBinsDiscretizer(n_bins=12, encode='ordinal', strategy='kmeans')\n",
    "# kbins = KBinsDiscretizer(n_bins=10, encode='ordinal', strategy='quantile')\n",
    "# kbins = KBinsDiscretizer(n_bins=25, encode='ordinal', strategy='uniform')\n",
    "data_trans = kbins.fit_transform(data)"
   ]
  },
  {
   "cell_type": "code",
   "execution_count": 63,
   "metadata": {},
   "outputs": [],
   "source": [
    "x = [k[0] for k in data_trans]\n",
    "pd.Series(x)\n"
   ]
  },
  {
   "cell_type": "code",
   "execution_count": 67,
   "metadata": {},
   "outputs": [],
   "source": [
    "df['label']=x"
   ]
  },
  {
   "cell_type": "code",
   "execution_count": 84,
   "metadata": {},
   "outputs": [
    {
     "data": {
      "text/plain": [
       "<Axes: >"
      ]
     },
     "execution_count": 84,
     "metadata": {},
     "output_type": "execute_result"
    },
    {
     "data": {
      "image/png": "[encoded data removed]",
      "text/plain": [
       "<Figure size 640x480 with 1 Axes>"
      ]
     },
     "metadata": {},
     "output_type": "display_data"
    }
   ],
   "source": [
    "df['label'].hist()"
   ]
  },
  {
   "cell_type": "code",
   "execution_count": 85,
   "metadata": {},
   "outputs": [],
   "source": [
    "df_5 = df[df['label']==5]\n",
    "df_4= df[df['label']==4]\n",
    "df_6 = df[df['label']==6]\n",
    "\n"
   ]
  },
  {
   "cell_type": "code",
   "execution_count": 113,
   "metadata": {},
   "outputs": [],
   "source": [
    "df_0 = df[df['label']==0]\n",
    "df_1 = df[df['label']==1]\n",
    "df_2 = df[df['label']==2]\n",
    "df_3 = df[df['label']==3]"
   ]
  },
  {
   "cell_type": "code",
   "execution_count": 115,
   "metadata": {},
   "outputs": [
    {
     "data": {
      "text/html": [
       "<div>\n",
       "<style scoped>\n",
       "    .dataframe tbody tr th:only-of-type {\n",
       "        vertical-align: middle;\n",
       "    }\n",
       "\n",
       "    .dataframe tbody tr th {\n",
       "        vertical-align: top;\n",
       "    }\n",
       "\n",
       "    .dataframe thead th {\n",
       "        text-align: right;\n",
       "    }\n",
       "</style>\n",
       "<table border=\"1\" class=\"dataframe\">\n",
       "  <thead>\n",
       "    <tr style=\"text-align: right;\">\n",
       "      <th></th>\n",
       "      <th>date</th>\n",
       "      <th>to_vpa</th>\n",
       "      <th>amount_debited</th>\n",
       "      <th>label</th>\n",
       "    </tr>\n",
       "  </thead>\n",
       "  <tbody>\n",
       "    <tr>\n",
       "      <th>4</th>\n",
       "      <td>2023-05-02</td>\n",
       "      <td>paytmqr2810050501013c01yr8ulryn@paytm</td>\n",
       "      <td>90.0</td>\n",
       "      <td>4.0</td>\n",
       "    </tr>\n",
       "    <tr>\n",
       "      <th>5</th>\n",
       "      <td>2023-05-02</td>\n",
       "      <td>7204813514@ybl</td>\n",
       "      <td>96.0</td>\n",
       "      <td>4.0</td>\n",
       "    </tr>\n",
       "    <tr>\n",
       "      <th>8</th>\n",
       "      <td>2023-04-30</td>\n",
       "      <td>swiggyupi@axisbank</td>\n",
       "      <td>195.0</td>\n",
       "      <td>4.0</td>\n",
       "    </tr>\n",
       "    <tr>\n",
       "      <th>13</th>\n",
       "      <td>2023-04-28</td>\n",
       "      <td>filipskar</td>\n",
       "      <td>200.0</td>\n",
       "      <td>4.0</td>\n",
       "    </tr>\n",
       "    <tr>\n",
       "      <th>18</th>\n",
       "      <td>2023-04-25</td>\n",
       "      <td>paytmqr2810050501013c01yr8ulryn@paytm</td>\n",
       "      <td>90.0</td>\n",
       "      <td>4.0</td>\n",
       "    </tr>\n",
       "    <tr>\n",
       "      <th>25</th>\n",
       "      <td>2023-04-22</td>\n",
       "      <td>paytmqr2810050501010zuz0zfma5j7@paytm</td>\n",
       "      <td>100.0</td>\n",
       "      <td>4.0</td>\n",
       "    </tr>\n",
       "    <tr>\n",
       "      <th>26</th>\n",
       "      <td>2023-04-20</td>\n",
       "      <td>airtel@axb</td>\n",
       "      <td>148.0</td>\n",
       "      <td>4.0</td>\n",
       "    </tr>\n",
       "    <tr>\n",
       "      <th>40</th>\n",
       "      <td>2023-04-12</td>\n",
       "      <td>bharatpe907720064799@yesbankltd</td>\n",
       "      <td>100.0</td>\n",
       "      <td>4.0</td>\n",
       "    </tr>\n",
       "    <tr>\n",
       "      <th>53</th>\n",
       "      <td>2023-04-07</td>\n",
       "      <td>paytmqr2810050501011m562bblwqd6@paytm</td>\n",
       "      <td>90.0</td>\n",
       "      <td>4.0</td>\n",
       "    </tr>\n",
       "    <tr>\n",
       "      <th>56</th>\n",
       "      <td>2023-04-06</td>\n",
       "      <td>paytmqr281005050101yqgyn52g3thd@paytm</td>\n",
       "      <td>110.0</td>\n",
       "      <td>4.0</td>\n",
       "    </tr>\n",
       "    <tr>\n",
       "      <th>58</th>\n",
       "      <td>2023-04-05</td>\n",
       "      <td>bharatpe907720064799@yesbankltd</td>\n",
       "      <td>130.0</td>\n",
       "      <td>4.0</td>\n",
       "    </tr>\n",
       "    <tr>\n",
       "      <th>60</th>\n",
       "      <td>2023-04-05</td>\n",
       "      <td>8073874486@ybl</td>\n",
       "      <td>88.0</td>\n",
       "      <td>4.0</td>\n",
       "    </tr>\n",
       "    <tr>\n",
       "      <th>64</th>\n",
       "      <td>2023-04-02</td>\n",
       "      <td>anduschicken.61812000@hdfcbank</td>\n",
       "      <td>114.0</td>\n",
       "      <td>4.0</td>\n",
       "    </tr>\n",
       "    <tr>\n",
       "      <th>65</th>\n",
       "      <td>2023-04-02</td>\n",
       "      <td>yulu.bike.payu@icici</td>\n",
       "      <td>100.0</td>\n",
       "      <td>4.0</td>\n",
       "    </tr>\n",
       "    <tr>\n",
       "      <th>75</th>\n",
       "      <td>2023-03-23</td>\n",
       "      <td>paytm-68415480@paytm</td>\n",
       "      <td>152.0</td>\n",
       "      <td>4.0</td>\n",
       "    </tr>\n",
       "    <tr>\n",
       "      <th>80</th>\n",
       "      <td>2023-03-21</td>\n",
       "      <td>yulu.bike.payu@icici</td>\n",
       "      <td>200.0</td>\n",
       "      <td>4.0</td>\n",
       "    </tr>\n",
       "    <tr>\n",
       "      <th>85</th>\n",
       "      <td>2023-03-19</td>\n",
       "      <td>paytmqr281005050101ab6ifkdnqd51@paytm</td>\n",
       "      <td>150.0</td>\n",
       "      <td>4.0</td>\n",
       "    </tr>\n",
       "    <tr>\n",
       "      <th>88</th>\n",
       "      <td>2023-03-18</td>\n",
       "      <td>mswipe.1400022322008694@kotak</td>\n",
       "      <td>138.0</td>\n",
       "      <td>4.0</td>\n",
       "    </tr>\n",
       "    <tr>\n",
       "      <th>94</th>\n",
       "      <td>2023-03-15</td>\n",
       "      <td>q245639448@ybl</td>\n",
       "      <td>84.0</td>\n",
       "      <td>4.0</td>\n",
       "    </tr>\n",
       "  </tbody>\n",
       "</table>\n",
       "</div>"
      ],
      "text/plain": [
       "          date                                 to_vpa  amount_debited  label\n",
       "4   2023-05-02  paytmqr2810050501013c01yr8ulryn@paytm            90.0    4.0\n",
       "5   2023-05-02                         7204813514@ybl            96.0    4.0\n",
       "8   2023-04-30                     swiggyupi@axisbank           195.0    4.0\n",
       "13  2023-04-28                              filipskar           200.0    4.0\n",
       "18  2023-04-25  paytmqr2810050501013c01yr8ulryn@paytm            90.0    4.0\n",
       "25  2023-04-22  paytmqr2810050501010zuz0zfma5j7@paytm           100.0    4.0\n",
       "26  2023-04-20                             airtel@axb           148.0    4.0\n",
       "40  2023-04-12        bharatpe907720064799@yesbankltd           100.0    4.0\n",
       "53  2023-04-07  paytmqr2810050501011m562bblwqd6@paytm            90.0    4.0\n",
       "56  2023-04-06  paytmqr281005050101yqgyn52g3thd@paytm           110.0    4.0\n",
       "58  2023-04-05        bharatpe907720064799@yesbankltd           130.0    4.0\n",
       "60  2023-04-05                         8073874486@ybl            88.0    4.0\n",
       "64  2023-04-02         anduschicken.61812000@hdfcbank           114.0    4.0\n",
       "65  2023-04-02                   yulu.bike.payu@icici           100.0    4.0\n",
       "75  2023-03-23                   paytm-68415480@paytm           152.0    4.0\n",
       "80  2023-03-21                   yulu.bike.payu@icici           200.0    4.0\n",
       "85  2023-03-19  paytmqr281005050101ab6ifkdnqd51@paytm           150.0    4.0\n",
       "88  2023-03-18          mswipe.1400022322008694@kotak           138.0    4.0\n",
       "94  2023-03-15                         q245639448@ybl            84.0    4.0"
      ]
     },
     "execution_count": 115,
     "metadata": {},
     "output_type": "execute_result"
    }
   ],
   "source": [
    "df_4[['date','to_vpa','amount_debited','label']]"
   ]
  },
  {
   "cell_type": "code",
   "execution_count": 86,
   "metadata": {},
   "outputs": [
    {
     "data": {
      "text/html": [
       "<div>\n",
       "<style scoped>\n",
       "    .dataframe tbody tr th:only-of-type {\n",
       "        vertical-align: middle;\n",
       "    }\n",
       "\n",
       "    .dataframe tbody tr th {\n",
       "        vertical-align: top;\n",
       "    }\n",
       "\n",
       "    .dataframe thead th {\n",
       "        text-align: right;\n",
       "    }\n",
       "</style>\n",
       "<table border=\"1\" class=\"dataframe\">\n",
       "  <thead>\n",
       "    <tr style=\"text-align: right;\">\n",
       "      <th></th>\n",
       "      <th>date</th>\n",
       "      <th>to_vpa</th>\n",
       "      <th>amount_debited</th>\n",
       "      <th>label</th>\n",
       "    </tr>\n",
       "  </thead>\n",
       "  <tbody>\n",
       "    <tr>\n",
       "      <th>1</th>\n",
       "      <td>2023-05-06</td>\n",
       "      <td>swiggyinstamart@yespay</td>\n",
       "      <td>506.0</td>\n",
       "      <td>6.0</td>\n",
       "    </tr>\n",
       "    <tr>\n",
       "      <th>3</th>\n",
       "      <td>2023-05-02</td>\n",
       "      <td>7005754061@ibl</td>\n",
       "      <td>727.0</td>\n",
       "      <td>6.0</td>\n",
       "    </tr>\n",
       "    <tr>\n",
       "      <th>6</th>\n",
       "      <td>2023-05-01</td>\n",
       "      <td>swiggyinstamart@yespay</td>\n",
       "      <td>680.0</td>\n",
       "      <td>6.0</td>\n",
       "    </tr>\n",
       "    <tr>\n",
       "      <th>9</th>\n",
       "      <td>2023-04-30</td>\n",
       "      <td>lam</td>\n",
       "      <td>882.0</td>\n",
       "      <td>6.0</td>\n",
       "    </tr>\n",
       "    <tr>\n",
       "      <th>11</th>\n",
       "      <td>2023-04-29</td>\n",
       "      <td>airtel.payu@axisbank</td>\n",
       "      <td>588.0</td>\n",
       "      <td>6.0</td>\n",
       "    </tr>\n",
       "    <tr>\n",
       "      <th>23</th>\n",
       "      <td>2023-04-22</td>\n",
       "      <td>q008195442@ybl</td>\n",
       "      <td>740.0</td>\n",
       "      <td>6.0</td>\n",
       "    </tr>\n",
       "    <tr>\n",
       "      <th>27</th>\n",
       "      <td>2023-04-20</td>\n",
       "      <td>swiggyinstamart@yespay</td>\n",
       "      <td>577.0</td>\n",
       "      <td>6.0</td>\n",
       "    </tr>\n",
       "    <tr>\n",
       "      <th>30</th>\n",
       "      <td>2023-04-18</td>\n",
       "      <td>swiggyupi@axisbank</td>\n",
       "      <td>552.0</td>\n",
       "      <td>6.0</td>\n",
       "    </tr>\n",
       "    <tr>\n",
       "      <th>31</th>\n",
       "      <td>2023-04-17</td>\n",
       "      <td>7005754061@ibl</td>\n",
       "      <td>706.0</td>\n",
       "      <td>6.0</td>\n",
       "    </tr>\n",
       "    <tr>\n",
       "      <th>37</th>\n",
       "      <td>2023-04-15</td>\n",
       "      <td>swiggyinstamart@yespay</td>\n",
       "      <td>485.0</td>\n",
       "      <td>6.0</td>\n",
       "    </tr>\n",
       "    <tr>\n",
       "      <th>45</th>\n",
       "      <td>2023-04-10</td>\n",
       "      <td>swiggyupi@axisbank</td>\n",
       "      <td>520.0</td>\n",
       "      <td>6.0</td>\n",
       "    </tr>\n",
       "    <tr>\n",
       "      <th>47</th>\n",
       "      <td>2023-04-09</td>\n",
       "      <td>swiggy.stores@axisbank</td>\n",
       "      <td>513.0</td>\n",
       "      <td>6.0</td>\n",
       "    </tr>\n",
       "    <tr>\n",
       "      <th>55</th>\n",
       "      <td>2023-04-06</td>\n",
       "      <td>swiggy.stores@axisbank</td>\n",
       "      <td>773.0</td>\n",
       "      <td>6.0</td>\n",
       "    </tr>\n",
       "    <tr>\n",
       "      <th>59</th>\n",
       "      <td>2023-04-05</td>\n",
       "      <td>7005754061@ibl</td>\n",
       "      <td>600.0</td>\n",
       "      <td>6.0</td>\n",
       "    </tr>\n",
       "    <tr>\n",
       "      <th>67</th>\n",
       "      <td>2023-04-02</td>\n",
       "      <td>airtel@axb</td>\n",
       "      <td>719.0</td>\n",
       "      <td>6.0</td>\n",
       "    </tr>\n",
       "    <tr>\n",
       "      <th>70</th>\n",
       "      <td>2023-03-25</td>\n",
       "      <td>q008195442@ybl</td>\n",
       "      <td>610.0</td>\n",
       "      <td>6.0</td>\n",
       "    </tr>\n",
       "    <tr>\n",
       "      <th>71</th>\n",
       "      <td>2023-03-25</td>\n",
       "      <td>swiggy.stores@axisbank</td>\n",
       "      <td>479.0</td>\n",
       "      <td>6.0</td>\n",
       "    </tr>\n",
       "    <tr>\n",
       "      <th>72</th>\n",
       "      <td>2023-03-25</td>\n",
       "      <td>7005754061@ibl</td>\n",
       "      <td>600.0</td>\n",
       "      <td>6.0</td>\n",
       "    </tr>\n",
       "    <tr>\n",
       "      <th>73</th>\n",
       "      <td>2023-03-24</td>\n",
       "      <td>q008195442@ybl</td>\n",
       "      <td>580.0</td>\n",
       "      <td>6.0</td>\n",
       "    </tr>\n",
       "    <tr>\n",
       "      <th>77</th>\n",
       "      <td>2023-03-22</td>\n",
       "      <td>paytmqr2810050501014mpgrrkajetv@paytm</td>\n",
       "      <td>535.0</td>\n",
       "      <td>6.0</td>\n",
       "    </tr>\n",
       "    <tr>\n",
       "      <th>78</th>\n",
       "      <td>2023-03-22</td>\n",
       "      <td>upiswiggy@icici</td>\n",
       "      <td>882.0</td>\n",
       "      <td>6.0</td>\n",
       "    </tr>\n",
       "    <tr>\n",
       "      <th>82</th>\n",
       "      <td>2023-03-19</td>\n",
       "      <td>upiswiggy@icici</td>\n",
       "      <td>743.0</td>\n",
       "      <td>6.0</td>\n",
       "    </tr>\n",
       "    <tr>\n",
       "      <th>84</th>\n",
       "      <td>2023-03-19</td>\n",
       "      <td>paytmqr2810050501011qrpzo4w2jvu@paytm</td>\n",
       "      <td>766.0</td>\n",
       "      <td>6.0</td>\n",
       "    </tr>\n",
       "    <tr>\n",
       "      <th>98</th>\n",
       "      <td>2023-03-13</td>\n",
       "      <td>lam</td>\n",
       "      <td>962.0</td>\n",
       "      <td>6.0</td>\n",
       "    </tr>\n",
       "  </tbody>\n",
       "</table>\n",
       "</div>"
      ],
      "text/plain": [
       "          date                                 to_vpa  amount_debited  label\n",
       "1   2023-05-06                 swiggyinstamart@yespay           506.0    6.0\n",
       "3   2023-05-02                         7005754061@ibl           727.0    6.0\n",
       "6   2023-05-01                 swiggyinstamart@yespay           680.0    6.0\n",
       "9   2023-04-30                                    lam           882.0    6.0\n",
       "11  2023-04-29                   airtel.payu@axisbank           588.0    6.0\n",
       "23  2023-04-22                         q008195442@ybl           740.0    6.0\n",
       "27  2023-04-20                 swiggyinstamart@yespay           577.0    6.0\n",
       "30  2023-04-18                     swiggyupi@axisbank           552.0    6.0\n",
       "31  2023-04-17                         7005754061@ibl           706.0    6.0\n",
       "37  2023-04-15                 swiggyinstamart@yespay           485.0    6.0\n",
       "45  2023-04-10                     swiggyupi@axisbank           520.0    6.0\n",
       "47  2023-04-09                 swiggy.stores@axisbank           513.0    6.0\n",
       "55  2023-04-06                 swiggy.stores@axisbank           773.0    6.0\n",
       "59  2023-04-05                         7005754061@ibl           600.0    6.0\n",
       "67  2023-04-02                             airtel@axb           719.0    6.0\n",
       "70  2023-03-25                         q008195442@ybl           610.0    6.0\n",
       "71  2023-03-25                 swiggy.stores@axisbank           479.0    6.0\n",
       "72  2023-03-25                         7005754061@ibl           600.0    6.0\n",
       "73  2023-03-24                         q008195442@ybl           580.0    6.0\n",
       "77  2023-03-22  paytmqr2810050501014mpgrrkajetv@paytm           535.0    6.0\n",
       "78  2023-03-22                        upiswiggy@icici           882.0    6.0\n",
       "82  2023-03-19                        upiswiggy@icici           743.0    6.0\n",
       "84  2023-03-19  paytmqr2810050501011qrpzo4w2jvu@paytm           766.0    6.0\n",
       "98  2023-03-13                                    lam           962.0    6.0"
      ]
     },
     "execution_count": 86,
     "metadata": {},
     "output_type": "execute_result"
    }
   ],
   "source": [
    "# df_5[['date','to_vpa','amount_debited','label']]\n",
    "df_6[['date','to_vpa','amount_debited','label']]"
   ]
  },
  {
   "cell_type": "code",
   "execution_count": 54,
   "metadata": {},
   "outputs": [
    {
     "data": {
      "image/png": "[encoded data removed]",
      "text/plain": [
       "<Figure size 640x480 with 1 Axes>"
      ]
     },
     "metadata": {},
     "output_type": "display_data"
    }
   ],
   "source": [
    "pyplot.hist(data_trans, bins=12)\n",
    "pyplot.show()\n"
   ]
  },
  {
   "cell_type": "code",
   "execution_count": 123,
   "metadata": {},
   "outputs": [],
   "source": [
    "df_11 = df[df['label']==11]\n",
    "df_10 = df[df['label']==10]\n",
    "df_9 = df[df['label']==9]\n",
    "# df_3 = df[df['label']==3]"
   ]
  },
  {
   "cell_type": "code",
   "execution_count": 124,
   "metadata": {},
   "outputs": [
    {
     "data": {
      "text/html": [
       "<div>\n",
       "<style scoped>\n",
       "    .dataframe tbody tr th:only-of-type {\n",
       "        vertical-align: middle;\n",
       "    }\n",
       "\n",
       "    .dataframe tbody tr th {\n",
       "        vertical-align: top;\n",
       "    }\n",
       "\n",
       "    .dataframe thead th {\n",
       "        text-align: right;\n",
       "    }\n",
       "</style>\n",
       "<table border=\"1\" class=\"dataframe\">\n",
       "  <thead>\n",
       "    <tr style=\"text-align: right;\">\n",
       "      <th></th>\n",
       "      <th>date</th>\n",
       "      <th>to_vpa</th>\n",
       "      <th>amount_debited</th>\n",
       "      <th>label</th>\n",
       "    </tr>\n",
       "  </thead>\n",
       "  <tbody>\n",
       "    <tr>\n",
       "      <th>66</th>\n",
       "      <td>2023-04-02</td>\n",
       "      <td>credclub@icici</td>\n",
       "      <td>22741.0</td>\n",
       "      <td>9.0</td>\n",
       "    </tr>\n",
       "  </tbody>\n",
       "</table>\n",
       "</div>"
      ],
      "text/plain": [
       "          date          to_vpa  amount_debited  label\n",
       "66  2023-04-02  credclub@icici         22741.0    9.0"
      ]
     },
     "execution_count": 124,
     "metadata": {},
     "output_type": "execute_result"
    }
   ],
   "source": [
    "df_9[['date','to_vpa','amount_debited','label']]"
   ]
  },
  {
   "cell_type": "code",
   "execution_count": 163,
   "metadata": {},
   "outputs": [
    {
     "name": "stdout",
     "output_type": "stream",
     "text": [
      "cluster 0: [ 1.  1.  5.  6.  1.  5. 10. 22. 23. 23.]\n",
      "cluster 1: [50. 51. 51. 52.]\n",
      "cluster 2: [100. 112. 130.]\n",
      "cluster 3: [500. 512.]\n",
      "cluster 4: [12230.]\n",
      "cluster 5: [12000.]\n",
      "cluster 6: [600.]\n"
     ]
    }
   ],
   "source": [
    "#5 MeanShift\n",
    "import numpy as np\n",
    "from sklearn.cluster import MeanShift, estimate_bandwidth\n",
    "\n",
    "x = [1,1,5,6,1,5,10,22,23,23,50,51,51,52,100,112,130,500,512,600,12000,12230] #use own amount_debited\n",
    "\n",
    "X_s = np.array(list(zip(x,np.zeros(len(x))))) #what is np.zeroes\n",
    "bandwidth = estimate_bandwidth(X_s, quantile=0.1) #what is this\n",
    "ms = MeanShift(bandwidth=bandwidth, bin_seeding=True) #what is mean shift\n",
    "ms.fit(X_s) #how does fit method works\n",
    "labels = ms.labels_\n",
    "cluster_centers = ms.cluster_centers_ #what is \"cluster center\" and how to use it\n",
    "\n",
    "labels_unique = np.unique(labels)\n",
    "n_clusters_ = len(labels_unique)\n",
    "\n",
    "for k in range(0,n_clusters_):\n",
    "    my_members = labels == k\n",
    "    # print(my_members)\n",
    "    print(\"cluster {}: {}\".format(k, X_s[my_members, 0]))\n",
    "\n",
    "#Modifying quantilevariable you can change the clustering number selection criteria"
   ]
  },
  {
   "cell_type": "code",
   "execution_count": 161,
   "metadata": {},
   "outputs": [
    {
     "data": {
      "text/plain": [
       "<Axes: >"
      ]
     },
     "execution_count": 161,
     "metadata": {},
     "output_type": "execute_result"
    },
    {
     "data": {
      "image/png": "[encoded data removed]",
      "text/plain": [
       "<Figure size 640x480 with 1 Axes>"
      ]
     },
     "metadata": {},
     "output_type": "display_data"
    }
   ],
   "source": [
    "pd.Series(labels).hist()"
   ]
  },
  {
   "cell_type": "code",
   "execution_count": null,
   "metadata": {},
   "outputs": [],
   "source": [
    "#6 zabardasti clustering individual serieses a dataframe\n",
    "from sklearn.cluster import KMeans\n",
    "import pandas as pd\n",
    "data = {'one': ([1., 2., 3., 4., 3., 2., 1.]), 'two': [4., 3., 2.,1., 2., 3., 4.13]}\n",
    "data = pd.DataFrame(data)\n",
    "n_clusters=3\n",
    "for col in data.columns:\n",
    "    kmeans=KMeans(n_clusters=n_clusters)\n",
    "    x = np.array(data[col].to_list()).reshape(-1, 1)\n",
    "    kmeans.fit(x)\n",
    "    print(\"{}:{}\".format(col,kmeans.predict(x)))"
   ]
  },
  {
   "cell_type": "code",
   "execution_count": null,
   "metadata": {},
   "outputs": [],
   "source": []
  },
  {
   "attachments": {},
   "cell_type": "markdown",
   "metadata": {},
   "source": [
    "## Conclusions\n",
    "- [this]('https://stats.stackexchange.com/questions/30361/univariate-clustering-of-time-series') question has an answer which describes some overall concepts of anomaly detection. bit theoretical and language is hard but lot of content.\n",
    "- Popular methods for univariate clustering is actually not clustering but binning and density mapping like [KDE]('https://stackoverflow.com/questions/35094454/how-would-one-use-kernel-density-estimation-as-a-1d-clustering-method-in-scikit/35151947#35151947')\n",
    "- learn about k [nearest neighbours]('https://scikit-learn.org/stable/modules/neighbors.html#neighbors') for understanding this further\n",
    "- Another popular version is [jenks natural breaks]('https://en.wikipedia.org/wiki/Jenks_natural_breaks_optimization') which [can be implemented]('https://pbpython.com/natural-breaks.html') using the jenkspy package. try it.related topic on \n",
    "- [change detection]('https://en.wikipedia.org/wiki/Change_detection') in mean is detected in this kind of technique. However when data is timeseries a more appropriate technique can be to detect change in timeseries, \n",
    "- [timeseries clustering & why it is special]('https://towardsdatascience.com/hands-on-climate-time-series-clustering-using-machine-learning-with-python-6a12ce1607f9'). Important to move on to do univariate timeseries anomaly detection.\n",
    "- [Great website for ML]('https://machinelearningmastery.com/clustering-algorithms-with-python/')\n",
    "- Ex1: instead of amount debited take hour as a variable "
   ]
  },
  {
   "cell_type": "code",
   "execution_count": null,
   "metadata": {},
   "outputs": [],
   "source": [
    "import jenkspy\n",
    "url= \"https://raw.githubusercontent.com/hellojosh/AwesomeData/master/national-parks.csv\"\n",
    "d = pd.read_csv(url)\n",
    "location_counts = d[ \"location\"].value_counts()\n",
    "# Calculate Break\n",
    "_, b,_ = jenkspy.jenks_breaks(location_counts,n_classes =2)\n",
    "print (f\"BREAK: {b}\")\n",
    "pd.concat([location_counts, (location_counts == 2).rename(\"included\")], axis=1)"
   ]
  }
 ],
 "metadata": {
  "kernelspec": {
   "display_name": ".venv",
   "language": "python",
   "name": "python3"
  },
  "language_info": {
   "codemirror_mode": {
    "name": "ipython",
    "version": 3
   },
   "file_extension": ".py",
   "mimetype": "text/x-python",
   "name": "python",
   "nbconvert_exporter": "python",
   "pygments_lexer": "ipython3",
   "version": "3.8.9"
  },
  "orig_nbformat": 4
 },
 "nbformat": 4,
 "nbformat_minor": 2
}
